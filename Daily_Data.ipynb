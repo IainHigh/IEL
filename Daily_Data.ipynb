{
 "cells": [
  {
   "attachments": {},
   "cell_type": "markdown",
   "metadata": {},
   "source": [
    "# IEL DATA EXPLORATION\n",
    "This Jupiter notebook is used to explore the data and record my thought process of how I will approach the problem. Early on in the project I changed data sources from initially using multiple sources (NRFA, River Levels UK, SEPA) however, I changed this so all data is coming from SEPA's API as this contains a larger volume of data and is more accurate. However, because of this change some observations which I made in the previous dataset are saved in the OLD DATA notebook. I have copied the relevant sections from the old notebook to this one so that I can refer back to them if needed."
   ]
  },
  {
   "cell_type": "code",
   "execution_count": null,
   "metadata": {},
   "outputs": [],
   "source": [
    "# Import the necessary libraries\n",
    "import pandas as pd\n",
    "import numpy as np\n",
    "import matplotlib.pyplot as plt\n",
    "from mpl_toolkits import mplot3d\n",
    "import seaborn as sns\n",
    "import os\n",
    "import sklearn"
   ]
  },
  {
   "attachments": {},
   "cell_type": "markdown",
   "metadata": {},
   "source": [
    "### Read in the data\n",
    "Currently we are using data from the \"Carradale Water at Dippen\" Water Station. This is a water station which is located in Cambeltown, on the West Coast of Scotland. The reason for choosing this station is because it has approximately the same latitude, and geography as the fictitious island of Claddach and monitors a river pretty much all the way from the source to the river estuary. This means that the data should be representative of the data we would expect to see on Claddach.\n",
    "\n",
    "See the README.md in the Data repository to see how this data was collected."
   ]
  },
  {
   "cell_type": "code",
   "execution_count": null,
   "metadata": {},
   "outputs": [],
   "source": [
    "# Import the new data and create a dataframe\n",
    "daily_flow = pd.read_csv('Data/Daily_Averages/Daily_Mean_Flow_Rate.csv', delimiter=';')\n",
    "daily_flow.rename(columns={'Value': 'Mean Flow (m3/s)'}, inplace=True)\n",
    "daily_rain = pd.read_csv('Data/Daily_Averages/Daily_Precipitation.csv', delimiter=';')\n",
    "daily_rain.rename(columns={'Value': 'Daily Precipitation (mm)'}, inplace=True)\n",
    "daily_level = pd.read_csv('Data/Daily_Averages/Daily_Mean_Level.csv', delimiter=';')\n",
    "daily_level.rename(columns={'Value': 'Mean Water Level (m)'}, inplace=True)"
   ]
  },
  {
   "cell_type": "code",
   "execution_count": null,
   "metadata": {},
   "outputs": [],
   "source": [
    "# Merge the 3 datasets into one\n",
    "merged = pd.merge(daily_flow, daily_rain, on=['#Timestamp'])\n",
    "merged = pd.merge(merged, daily_level, on=['#Timestamp'])\n",
    "merged = merged.drop('Quality Code_x', axis=1)\n",
    "merged = merged.drop('Quality Code_y', axis=1)\n",
    "merged = merged.drop('Quality Code', axis=1)\n",
    "merged.dropna(inplace=True)\n",
    "merged.describe()"
   ]
  },
  {
   "attachments": {},
   "cell_type": "markdown",
   "metadata": {},
   "source": [
    "### Simple Calculations\n",
    "\n",
    "The Catchment Area of the Carradale Water at Dippen Water Station is 58.5km^2 (https://www2.sepa.org.uk/waterlevels/default.aspx?sd=t&lc=133077).\n",
    "<br>1mm of rainfall is equal to 1 litre of water per square metre.\n",
    "\n",
    "The Scottish Governments states that the estimated percentage of precipitation which runoffs into the see is approximately 73% (https://www.gov.scot/publications/scotlands-marine-atlas-information-national-marine-plan/pages/7/) However, this is extremely variable from location to location (eg. in the USA this is as low as 30% (https://www.usgs.gov/special-topics/water-science-school/science/rain-and-precipitation). As well as the fact that on a daily, or even hourly basis, this will depend upon the weather conditions as more sunshine and warmer weather will lead to more evaporation and less ending up in the river. Therefore for now, we will set the percentage of rainfall which ends up in the river to a figure which results in the cumulative water difference throughout the year being equal to 0. This will likely be changed later to a more realistic value which changes throughout the year to account for the weather conditions.\n",
    "\n",
    "<br>hence the amount of water going into our river (measured in litres) on a given day is:\n",
    "    <br><br> rainfall * 58.5 * 0.73 *1,000,000\n",
    "    <br>     rainfall * 42,705,000\n",
    "\n",
    "For the amount of water going out of the river (measured in litres) on a given day, we can use the flow data.\n",
    "<br><br>We know that the flow data is measured in m^3/s, so we can convert this to litres (by multiplying by 1000) and then multiply by the number of seconds in a day (86400) to get the litres of water going out of the river on a given day.\n",
    "\n",
    "<br>flow * 1000 * 86400\n",
    "<br>flow * 86,400,000\n",
    "\n",
    "<br>Hence the water difference on a given day is equal to:\n",
    "<br><br>rainfall * 42,705,000 - flow * 86,400,000\n",
    "\n",
    "We want to convert this back into cubic metres, so we divide by 1000\n",
    "<br><br>rainfall * 42,705 - flow * 86,400\n",
    "\n",
    "Let's add this to our dataframe and plot it.\n"
   ]
  },
  {
   "cell_type": "code",
   "execution_count": null,
   "metadata": {},
   "outputs": [],
   "source": [
    "waterDifference = merged['Daily Precipitation (mm)']*45000 - merged['Mean Flow (m3/s)']*86400\n",
    "merged['Water Difference (m3)'] = waterDifference\n",
    "merged.describe()"
   ]
  },
  {
   "cell_type": "code",
   "execution_count": null,
   "metadata": {},
   "outputs": [],
   "source": [
    "# Calculate the derivative of the water level for each day. Don't ask why it's calculated this way - Python was just being a pain.\n",
    "levelDerivative = []\n",
    "previous = merged['Mean Water Level (m)'][0]\n",
    "flag = True\n",
    "for i in merged['Mean Water Level (m)']:\n",
    "    diff = i - previous\n",
    "    if not flag:\n",
    "        levelDerivative.append(diff)\n",
    "    flag = False\n",
    "    previous = i\n",
    "levelDerivative.append(0)\n",
    "merged['level_derivative'] = levelDerivative\n",
    "merged"
   ]
  },
  {
   "cell_type": "code",
   "execution_count": null,
   "metadata": {},
   "outputs": [],
   "source": [
    "# Plot the water difference and the level derivative against the date with different axis scales\n",
    "fig, ax1 = plt.subplots()\n",
    "ax1.plot(merged['#Timestamp'][365:730], merged['Water Difference (m3)'][365:730])\n",
    "ax1.set_xlabel('Date')\n",
    "ax1.set_ylabel('Water Difference', color='tab:blue')\n",
    "ax1.set_ylim(-1000000, 1000000)\n",
    "ax2 = ax1.twinx()\n",
    "ax2.plot(merged['#Timestamp'][365:730], merged['level_derivative'][365:730], color='tab:red')\n",
    "ax2.set_ylabel('Level Derivative', color='tab:red')\n",
    "ax2.set_ylim(-1, 1)\n",
    "plt.show()"
   ]
  },
  {
   "cell_type": "code",
   "execution_count": null,
   "metadata": {},
   "outputs": [],
   "source": [
    "#cols = ['Mean Flow (m3/s)', 'Daily Precipitation (mm)', 'Mean Water Level (m)', 'Water Difference (m3)', 'level_derivative']\n",
    "#sns.pairplot(merged[cols], height=2.5)"
   ]
  },
  {
   "cell_type": "code",
   "execution_count": null,
   "metadata": {},
   "outputs": [],
   "source": [
    "import sklearn\n",
    "from sklearn.preprocessing import StandardScaler\n",
    "stdsc = StandardScaler()\n",
    "X_std = stdsc.fit_transform(merged[cols].values)\n",
    "cov_mat = np.cov(X_std.T)\n",
    "plt.figure(figsize=(10, 10))\n",
    "hm = sns.heatmap(cov_mat, cbar=True, annot=True, square=True, fmt='.2f', annot_kws={'size': 15}, cmap='coolwarm', yticklabels=cols, xticklabels=cols)\n",
    "plt.title('Covariance Matrix')\n",
    "plt.tight_layout()\n",
    "plt.show()"
   ]
  },
  {
   "attachments": {},
   "cell_type": "markdown",
   "metadata": {},
   "source": [
    "From the above covariance matrix - it should be possible to model the water flow and level using only the rainfall data. Since the water_difference for the day doesn't correlate too much with the mean flow and since the mean flow correlates with the water level.\n",
    "\n",
    "Hence we can model it as follows:\n",
    "\n",
    "Rainfall -> Water Difference -> x -> Water Level -> Water Flow -> Level Derivative"
   ]
  },
  {
   "cell_type": "code",
   "execution_count": null,
   "metadata": {},
   "outputs": [],
   "source": [
    "\n",
    "# Fit a polynomial curve to the data\n",
    "from sklearn.preprocessing import PolynomialFeatures\n",
    "from sklearn.linear_model import LinearRegression\n",
    "from sklearn.metrics import mean_squared_error, r2_score\n",
    "from sklearn.pipeline import Pipeline\n",
    "from sklearn.model_selection import train_test_split\n",
    "\n",
    "X = merged['Mean Water Level (m)'].values.reshape(-1, 1)\n",
    "y = merged['Mean Flow (m3/s)'].values.reshape(-1, 1)\n",
    "X_train, X_test, y_train, y_test = train_test_split(X, y, test_size=0.3, random_state=0)\n",
    "quadratic = PolynomialFeatures(degree=4)\n",
    "X_quad = quadratic.fit_transform(X)\n",
    "X_quad_test = quadratic.fit_transform(X_test)\n",
    "lr = LinearRegression()\n",
    "lr.fit(X_quad, y)\n",
    "y_quad_fit = lr.predict(X_quad)\n",
    "y_quad_pred = lr.predict(X_quad_test)\n",
    "print('MSE train: %.3f, test: %.3f' % (\n",
    "mean_squared_error(y, y_quad_fit),\n",
    "mean_squared_error(y_test, y_quad_pred)))\n",
    "print('R^2 train: %.3f, test: %.3f' % (\n",
    "r2_score(y, y_quad_fit),\n",
    "r2_score(y_test, y_quad_pred)))\n",
    "\n",
    "# Plot the polynomial curve\n",
    "plt.scatter(X, y, label='data points', color='lightgray', marker='o')\n",
    "\n",
    "x = np.linspace(0, 2.7, 1000)\n",
    "y = lr.predict(quadratic.fit_transform(x.reshape(-1, 1)))\n",
    "plt.plot(x, y, label='quadratic (d=2)', color='red')\n",
    "\n",
    "plt.legend(loc='upper left')\n",
    "plt.show()"
   ]
  },
  {
   "cell_type": "code",
   "execution_count": null,
   "metadata": {},
   "outputs": [],
   "source": [
    "# Remove days with water difference > 2000000 and > 2000000\n",
    "typical = merged[merged['Water Difference (m3)'] < 2000000]\n",
    "typical = typical[typical['Water Difference (m3)'] > -2000000]\n",
    "\n",
    "print(len(typical))\n",
    "print(len(typical) / len(merged))\n",
    "\n",
    "# Fit a polynomial curve of Water difference (independent) and level derivative (dependent)\n",
    "X = typical['Water Difference (m3)'].values.reshape(-1, 1)\n",
    "y = typical['level_derivative'].values.reshape(-1, 1)\n",
    "X_train, X_test, y_train, y_test = train_test_split(X, y, test_size=0.3, random_state=0)\n",
    "quadratic = PolynomialFeatures(degree=1)\n",
    "X_quad = quadratic.fit_transform(X)\n",
    "X_quad_test = quadratic.fit_transform(X_test)\n",
    "lr = LinearRegression()\n",
    "lr.fit(X_quad, y)\n",
    "y_quad_fit = lr.predict(X_quad)\n",
    "y_quad_pred = lr.predict(X_quad_test)\n",
    "\n",
    "# Plot the polynomial curve\n",
    "plt.scatter(X, y, label='data points', color='lightgray', marker='.')\n",
    "\n",
    "x = np.linspace(min(X), max(X), 1000)\n",
    "y = lr.predict(quadratic.fit_transform(x.reshape(-1, 1)))\n",
    "plt.plot(x, y, label='predicted', color='red')\n",
    "\n",
    "plt.xlim(-2000000, 2000000)\n",
    "plt.ylim(-1, 2)\n",
    "\n",
    "plt.legend(loc='upper left')\n",
    "plt.title('Regression of Flow Rate against Water Level')\n",
    "plt.xlabel('Water Difference (m3)')\n",
    "plt.ylabel('Level Derivative (m)')\n",
    "plt.show()\n",
    "\n",
    "# Calculate the standard deviation of the residuals\n",
    "residuals = y_quad_pred - y_test\n",
    "print('Standard Deviation of Residuals: %.3f' % np.std(residuals))\n",
    "\n",
    "# Calculate the standard deviation of the water difference\n",
    "print('Standard Deviation of Water Difference: %.3f' % np.std(X_test))\n",
    "\n",
    "# Calculate the mean water difference\n",
    "print('Mean Water Difference: %.3f' % np.mean(X_test))\n"
   ]
  },
  {
   "cell_type": "code",
   "execution_count": null,
   "metadata": {},
   "outputs": [],
   "source": [
    "# Plot a histogram of the water difference\n",
    "plt.hist(X_test, bins=100)\n",
    "plt.title('Histogram of Water Difference')\n",
    "plt.xlabel('Water Difference (m3)')\n",
    "plt.ylabel('Frequency')\n",
    "plt.show()\n",
    "\n",
    "# Plot a histogram of the residuals\n",
    "plt.hist(residuals, bins=100)\n",
    "plt.title('Histogram of Residuals')\n",
    "plt.xlabel('Residuals (m3)')\n",
    "plt.ylabel('Frequency')\n",
    "plt.show()\n"
   ]
  },
  {
   "cell_type": "code",
   "execution_count": null,
   "metadata": {},
   "outputs": [],
   "source": [
    "# Draw from a gaussian distribution with the mean and standard deviation of the water difference\n",
    "# and the standard deviation of the residual\n",
    "import random\n",
    "import math\n",
    "import matplotlib.pyplot as plt\n",
    "import numpy as np\n",
    "\n",
    "dataPoints = [(0, 0)] * 9370\n",
    "for i in range(9370):\n",
    "    x = random.choice(X_test)[0]\n",
    "    temp = lr.predict(quadratic.fit_transform(x.reshape(-1, 1)))\n",
    "    y = random.gauss(temp, np.std(residuals))\n",
    "    dataPoints[i] = (x,y)\n",
    "\n",
    "\n",
    "    \n",
    "# Plot the data points\n",
    "plt.scatter(*zip(*dataPoints), label='data points', color='lightgray', marker='.')\n",
    "plt.xlim(-2000000, 2000000)\n",
    "plt.ylim(-1, 2)"
   ]
  },
  {
   "cell_type": "code",
   "execution_count": null,
   "metadata": {},
   "outputs": [],
   "source": [
    "# Plot the water difference against the precipitation\n",
    "plt.scatter(typical['Daily Precipitation (mm)'], typical['Water Difference (m3)'], label='data points', color='lightgray', marker='.')\n",
    "plt.show()"
   ]
  },
  {
   "cell_type": "code",
   "execution_count": null,
   "metadata": {},
   "outputs": [],
   "source": [
    "# Using linear regression to predict the water difference\n",
    "X = typical['Daily Precipitation (mm)'].values.reshape(-1, 1)\n",
    "y = typical['Water Difference (m3)'].values.reshape(-1, 1)\n",
    "X_train, X_test, y_train, y_test = train_test_split(X, y, test_size=0.3, random_state=0)\n",
    "lr = LinearRegression()\n",
    "lr.fit(X_train, y_train)\n",
    "y_pred = lr.predict(X_test)\n",
    "\n",
    "# Plot the polynomial curve\n",
    "plt.scatter(X, y, label='data points', color='lightgray', marker='.')\n",
    "\n",
    "x = np.linspace(0, 60, 1000)\n",
    "y = lr.predict(x.reshape(-1, 1))\n",
    "plt.plot(x, y, label='predicted', color='red')\n",
    "\n",
    "plt.xlabel('Precipitation (mm)')\n",
    "plt.ylabel('Water Difference (m3)')\n",
    "plt.show()\n",
    "    "
   ]
  }
 ],
 "metadata": {
  "kernelspec": {
   "display_name": "Python 3",
   "language": "python",
   "name": "python3"
  },
  "language_info": {
   "codemirror_mode": {
    "name": "ipython",
    "version": 3
   },
   "file_extension": ".py",
   "mimetype": "text/x-python",
   "name": "python",
   "nbconvert_exporter": "python",
   "pygments_lexer": "ipython3",
   "version": "3.10.6 (main, Nov 14 2022, 16:10:14) [GCC 11.3.0]"
  },
  "orig_nbformat": 4,
  "vscode": {
   "interpreter": {
    "hash": "916dbcbb3f70747c44a77c7bcd40155683ae19c65e1c03b4aa3499c5328201f1"
   }
  }
 },
 "nbformat": 4,
 "nbformat_minor": 2
}
