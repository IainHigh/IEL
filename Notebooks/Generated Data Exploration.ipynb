{
 "cells": [
  {
   "cell_type": "code",
   "execution_count": null,
   "metadata": {},
   "outputs": [],
   "source": [
    "# Import the necessary libraries\n",
    "import pandas as pd\n",
    "import numpy as np\n",
    "import matplotlib.pyplot as plt\n",
    "import seaborn as sns\n",
    "\n",
    "from sklearn.preprocessing import StandardScaler\n",
    "from sklearn.preprocessing import PolynomialFeatures\n",
    "from sklearn.linear_model import LinearRegression\n",
    "from sklearn.model_selection import train_test_split"
   ]
  },
  {
   "attachments": {},
   "cell_type": "markdown",
   "metadata": {},
   "source": [
    "# Daily Generated Data"
   ]
  },
  {
   "cell_type": "code",
   "execution_count": null,
   "metadata": {},
   "outputs": [],
   "source": [
    "# Read in the Daily_Generated_Data.csv file\n",
    "daily = pd.read_csv('/home/iain/Desktop/IEL/Data/Generated Data/Daily Generated Data.csv')\n",
    "\n",
    "# For the daily data, calculate the level derivative and the water difference\n",
    "waterDifference = daily['Precipitation']*40452 - daily['Flow Rate']*86400\n",
    "daily['Water Difference'] = waterDifference\n",
    "\n",
    "# Calculate the derivative of the water level for each day. Don't ask why it's calculated this way - Python was just being a pain.\n",
    "levelDerivative = []\n",
    "previous = daily['Water Level'][0]\n",
    "flag = True\n",
    "for i in daily['Water Level']:\n",
    "    diff = i - previous\n",
    "    if not flag:\n",
    "        levelDerivative.append(diff)\n",
    "    flag = False\n",
    "    previous = i\n",
    "levelDerivative.append(0)\n",
    "daily['Level Difference'] = levelDerivative\n",
    "daily.describe()"
   ]
  },
  {
   "cell_type": "code",
   "execution_count": null,
   "metadata": {},
   "outputs": [],
   "source": [
    "# Plot the water difference and the level derivative against the date with different axis scales\n",
    "fig, ax1 = plt.subplots()\n",
    "ax1.plot(daily['Water Difference'].iloc[0:2000])\n",
    "ax1.set_ylabel('Water Difference', color='tab:blue')\n",
    "ax1.set_ylim(-1000000, 1000000)\n",
    "ax2 = ax1.twinx()\n",
    "ax2.plot(daily['Level Difference'].iloc[0:2000], color='tab:red')\n",
    "ax2.set_ylabel('Level Difference', color='tab:red')\n",
    "ax2.set_ylim(-1, 1)\n",
    "plt.show()"
   ]
  },
  {
   "cell_type": "code",
   "execution_count": null,
   "metadata": {},
   "outputs": [],
   "source": [
    "cols = ['Flow Rate', 'Precipitation', 'Water Level', 'Water Difference', 'Level Difference']\n",
    "sns.pairplot(daily[cols], height=2.5)"
   ]
  },
  {
   "cell_type": "code",
   "execution_count": null,
   "metadata": {},
   "outputs": [],
   "source": [
    "stdsc = StandardScaler()\n",
    "X_std = stdsc.fit_transform(daily[cols].values)\n",
    "cov_mat = np.cov(X_std.T)\n",
    "plt.figure(figsize=(10, 10))\n",
    "hm = sns.heatmap(cov_mat, cbar=True, annot=True, square=True, fmt='.2f', annot_kws={'size': 15}, cmap='coolwarm', yticklabels=cols, xticklabels=cols)\n",
    "plt.title('Covariance Matrix')\n",
    "plt.tight_layout()\n",
    "plt.show()"
   ]
  },
  {
   "cell_type": "code",
   "execution_count": null,
   "metadata": {},
   "outputs": [],
   "source": [
    "# Fit a polynomial curve to the data\n",
    "X = daily['Water Level'].values.reshape(-1, 1)\n",
    "y = daily['Flow Rate'].values.reshape(-1, 1)\n",
    "X_train, X_test, y_train, y_test = train_test_split(X, y, test_size=0.3, random_state=0)\n",
    "quadratic = PolynomialFeatures(degree=4)\n",
    "X_quad = quadratic.fit_transform(X)\n",
    "X_quad_test = quadratic.fit_transform(X_test)\n",
    "lr = LinearRegression()\n",
    "lr.fit(X_quad, y)\n",
    "y_quad_fit = lr.predict(X_quad)\n",
    "y_quad_pred = lr.predict(X_quad_test)\n",
    "\n",
    "# Plot the polynomial curve\n",
    "plt.scatter(X, y, label='data points', color='lightgray', marker='o')\n",
    "\n",
    "x = np.linspace(0, max(X), 1000)\n",
    "y = lr.predict(quadratic.fit_transform(x.reshape(-1, 1)))\n",
    "plt.plot(x, y, label='quadratic (d=4)', color='red')\n",
    "\n",
    "plt.legend(loc='upper left')\n",
    "plt.show()"
   ]
  },
  {
   "cell_type": "code",
   "execution_count": null,
   "metadata": {},
   "outputs": [],
   "source": [
    "# Remove days with water difference > 2000000 and > 2000000\n",
    "typical = daily[daily['Water Difference'] < 2000000]\n",
    "typical = typical[typical['Water Difference'] > -2000000]\n",
    "\n",
    "# Fit a polynomial curve of Water difference (independent) and level derivative (dependent)\n",
    "X = typical['Water Difference'].values.reshape(-1, 1)\n",
    "y = typical['Level Difference'].values.reshape(-1, 1)\n",
    "X_train, X_test, y_train, y_test = train_test_split(X, y, test_size=0.3, random_state=0)\n",
    "quadratic = PolynomialFeatures(degree=1)\n",
    "X_quad = quadratic.fit_transform(X)\n",
    "X_quad_test = quadratic.fit_transform(X_test)\n",
    "lr = LinearRegression()\n",
    "lr.fit(X_quad, y)\n",
    "y_quad_fit = lr.predict(X_quad)\n",
    "y_quad_pred = lr.predict(X_quad_test)\n",
    "\n",
    "# Plot the polynomial curve\n",
    "plt.scatter(X, y, label='data points', color='lightgray', marker='.')\n",
    "\n",
    "x = np.linspace(-2000000, 2000000, 1000)\n",
    "y = lr.predict(quadratic.fit_transform(x.reshape(-1, 1)))\n",
    "plt.plot(x, y, label='predicted', color='red')\n",
    "\n",
    "plt.xlim(-2000000, 2000000)\n",
    "plt.ylim(-1, 2)\n",
    "\n",
    "plt.legend(loc='upper left')\n",
    "plt.title('Regression of Flow Rate against Water Level')\n",
    "plt.xlabel('Water Difference (m3)')\n",
    "plt.ylabel('Level Derivative (m)')\n",
    "plt.show()"
   ]
  },
  {
   "attachments": {},
   "cell_type": "markdown",
   "metadata": {},
   "source": [
    "# Quarter-Hourly Generated Data"
   ]
  },
  {
   "cell_type": "code",
   "execution_count": null,
   "metadata": {},
   "outputs": [],
   "source": [
    "# Read in the Quarter_Hourly_Generated_Data.csv file\n",
    "quarter_hourly = pd.read_csv('/home/iain/Desktop/IEL/Data/Generated Data/Quarter Hourly Generated Data.csv')\n",
    "\n",
    "waterDifference = quarter_hourly['Precipitation']*40452 - quarter_hourly['Flow Rate']*900\n",
    "quarter_hourly['Water Difference'] = waterDifference\n",
    "\n",
    "levelDerivative = []\n",
    "previous = quarter_hourly['Water Level'][0]\n",
    "flag = True\n",
    "for i in quarter_hourly['Water Level']:\n",
    "    diff = i - previous\n",
    "    if not flag:\n",
    "        levelDerivative.append(diff)\n",
    "    flag = False\n",
    "    previous = i\n",
    "levelDerivative.append(0)\n",
    "quarter_hourly['Level Difference'] = levelDerivative\n",
    "quarter_hourly.describe()"
   ]
  },
  {
   "cell_type": "code",
   "execution_count": null,
   "metadata": {},
   "outputs": [],
   "source": [
    "# Plot the water difference and the level derivative against the date with different axis scales\n",
    "fig, ax1 = plt.subplots()\n",
    "ax1.plot(quarter_hourly['Water Difference'].iloc[0:2000])\n",
    "ax1.set_xlabel('Date')\n",
    "ax1.set_ylabel('Water Difference', color='tab:blue')\n",
    "ax2 = ax1.twinx()\n",
    "ax2.plot(quarter_hourly['Level Difference'].iloc[0:2000], color='tab:red')\n",
    "ax2.set_ylabel('Level Derivative', color='tab:red')\n",
    "\n",
    "# Set the level derivative axis to -0.005 to 0.030\n",
    "ax1.set_ylim(-10000, 90000)\n",
    "\n",
    "plt.show()"
   ]
  },
  {
   "cell_type": "code",
   "execution_count": null,
   "metadata": {},
   "outputs": [],
   "source": [
    "cols = ['Flow Rate', 'Precipitation', 'Water Level', 'Water Difference', 'Level Difference']\n",
    "sns.pairplot(quarter_hourly[cols], height=2.5)"
   ]
  },
  {
   "cell_type": "code",
   "execution_count": null,
   "metadata": {},
   "outputs": [],
   "source": [
    "stdsc = StandardScaler()\n",
    "X_std = stdsc.fit_transform(quarter_hourly[cols].values)\n",
    "cov_mat = np.cov(X_std.T)\n",
    "plt.figure(figsize=(10, 10))\n",
    "hm = sns.heatmap(cov_mat, cbar=True, annot=True, square=True, fmt='.2f', annot_kws={'size': 15}, cmap='coolwarm', yticklabels=cols, xticklabels=cols)\n",
    "plt.title('Covariance Matrix')\n",
    "plt.tight_layout()\n",
    "plt.show()"
   ]
  },
  {
   "cell_type": "code",
   "execution_count": null,
   "metadata": {},
   "outputs": [],
   "source": [
    "# Fit a polynomial curve to the data\n",
    "X = quarter_hourly['Water Level'].values.reshape(-1, 1)\n",
    "y = quarter_hourly['Flow Rate'].values.reshape(-1, 1)\n",
    "X_train, X_test, y_train, y_test = train_test_split(X, y, test_size=0.3, random_state=0)\n",
    "quadratic = PolynomialFeatures(degree=4)\n",
    "X_quad = quadratic.fit_transform(X)\n",
    "X_quad_test = quadratic.fit_transform(X_test)\n",
    "lr = LinearRegression()\n",
    "lr.fit(X_quad, y)\n",
    "y_quad_fit = lr.predict(X_quad)\n",
    "y_quad_pred = lr.predict(X_quad_test)\n",
    "\n",
    "# Plot the polynomial curve\n",
    "plt.scatter(X, y, label='data points', color='lightgray', marker='.')\n",
    "\n",
    "x = np.linspace(0.1, max(X), 1000)\n",
    "y = lr.predict(quadratic.fit_transform(x.reshape(-1, 1)))\n",
    "plt.plot(x, y, label='predicted', color='red')\n",
    "\n",
    "plt.legend(loc='upper left')\n",
    "plt.title('Regression of Flow Rate against Water Level')\n",
    "plt.xlabel('Water Level (m)')\n",
    "plt.ylabel('Flow Rate (m3/s)')\n",
    "plt.show()"
   ]
  }
 ],
 "metadata": {
  "kernelspec": {
   "display_name": "Python 3",
   "language": "python",
   "name": "python3"
  },
  "language_info": {
   "codemirror_mode": {
    "name": "ipython",
    "version": 3
   },
   "file_extension": ".py",
   "mimetype": "text/x-python",
   "name": "python",
   "nbconvert_exporter": "python",
   "pygments_lexer": "ipython3",
   "version": "3.10.6"
  },
  "orig_nbformat": 4,
  "vscode": {
   "interpreter": {
    "hash": "916dbcbb3f70747c44a77c7bcd40155683ae19c65e1c03b4aa3499c5328201f1"
   }
  }
 },
 "nbformat": 4,
 "nbformat_minor": 2
}
